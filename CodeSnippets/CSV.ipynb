{
 "metadata": {
  "kernelspec": {
   "display_name": ".NET (C#)",
   "language": "C#",
   "name": ".net-csharp"
  },
  "language_info": {
   "name": "C#"
  }
 },
 "cells": [
  {
   "cell_type": "markdown",
   "source": [
    "# Reading Values out of a CSV File\r\n",
    "\r\n",
    "This code snippet lets you get the value of a cell (located by row and column name) from a .csv- File"
   ],
   "metadata": {}
  },
  {
   "cell_type": "markdown",
   "source": [
    "## Required NuGet Packages"
   ],
   "metadata": {}
  },
  {
   "cell_type": "markdown",
   "source": [
    "[CsvHelper on NuGet.org](https://www.nuget.org/packages/CsvHelper/)"
   ],
   "metadata": {}
  },
  {
   "cell_type": "code",
   "execution_count": null,
   "source": [
    "// This is needed that this Notebook works\r\n",
    "#r \"nuget: CsvHelper, 27.1.1\""
   ],
   "outputs": [
    {
     "data": {
      "text/html": [
       "<div><div></div><div></div><div></div></div>"
      ]
     },
     "metadata": {},
     "output_type": "display_data"
    }
   ],
   "metadata": {
    "dotnet_interactive": {
     "language": "csharp"
    }
   }
  },
  {
   "cell_type": "markdown",
   "source": [
    "## Required Namespaces"
   ],
   "metadata": {}
  },
  {
   "cell_type": "code",
   "execution_count": null,
   "source": [
    "using System.IO;\r\n",
    "using System.Globalization;\r\n",
    "using CsvHelper;\r\n",
    "using CsvHelper.Configuration;"
   ],
   "outputs": [],
   "metadata": {
    "dotnet_interactive": {
     "language": "csharp"
    }
   }
  },
  {
   "cell_type": "markdown",
   "source": [
    "## Reading by Column Name and Row Number"
   ],
   "metadata": {}
  },
  {
   "cell_type": "code",
   "execution_count": null,
   "source": [
    "public string GetValueByRowAndColumn(string path, int row, string column)\r\n",
    "{\r\n",
    "    var config = new CsvConfiguration(CultureInfo.InvariantCulture)\r\n",
    "    {\r\n",
    "        IgnoreBlankLines = false,\t\t\r\n",
    "        HasHeaderRecord = true,\r\n",
    "        DetectDelimiter = true\r\n",
    "    };\r\n",
    "\r\n",
    "    using (var reader = new StreamReader(path))\r\n",
    "    using (var csv = new CsvReader(reader, config))\r\n",
    "    {\r\n",
    "        csv.Read();\r\n",
    "        csv.ReadHeader();\r\n",
    "\r\n",
    "        int current_row = 1;\r\n",
    "\r\n",
    "        while(csv.Read())\r\n",
    "        {\r\n",
    "            if (current_row == row)\r\n",
    "            {\r\n",
    "                return csv.GetField(column);\r\n",
    "            }\r\n",
    "\r\n",
    "            current_row++;\r\n",
    "        }\r\n",
    "        \r\n",
    "        throw new Exception($\"Row {row} wasn't found in file {path}\");\r\n",
    "    }\r\n",
    "}"
   ],
   "outputs": [],
   "metadata": {
    "dotnet_interactive": {
     "language": "csharp"
    }
   }
  },
  {
   "cell_type": "markdown",
   "source": [
    "## Usage\r\n",
    "\r\n",
    "Used csv-File: [email.csv](email.csv)"
   ],
   "metadata": {}
  },
  {
   "cell_type": "code",
   "execution_count": null,
   "source": [
    "var value = GetValueByRowAndColumn(\"email.csv\", 3, \"First name\");\r\n",
    "\r\n"
   ],
   "outputs": [],
   "metadata": {
    "dotnet_interactive": {
     "language": "csharp"
    }
   }
  },
  {
   "cell_type": "markdown",
   "source": [
    "When you execute it, the expected result is `Mary`"
   ],
   "metadata": {}
  },
  {
   "cell_type": "code",
   "execution_count": null,
   "source": [
    "Console.WriteLine($\"Actual result: {value}\");"
   ],
   "outputs": [
    {
     "data": {
      "text/plain": [
       "Actual result: Mary\r\n"
      ]
     },
     "metadata": {},
     "output_type": "display_data"
    }
   ],
   "metadata": {
    "dotnet_interactive": {
     "language": "csharp"
    }
   }
  }
 ],
 "nbformat": 4,
 "nbformat_minor": 2
}