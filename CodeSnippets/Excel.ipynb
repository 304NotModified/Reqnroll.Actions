{
 "metadata": {
  "kernelspec": {
   "display_name": ".NET (C#)",
   "language": "C#",
   "name": ".net-csharp"
  },
  "language_info": {
   "name": "C#"
  }
 },
 "cells": [
  {
   "cell_type": "markdown",
   "source": [
    "# Reading Values out of a Excel File\r\n",
    "\r\n",
    "This code snippet lets you get the value of a cell (located by row and column name) from a .xlsx- File"
   ],
   "metadata": {}
  },
  {
   "cell_type": "markdown",
   "source": [
    "## Required NuGet Packages"
   ],
   "metadata": {}
  },
  {
   "cell_type": "markdown",
   "source": [
    "[ClosedXML on NuGet.org](https://www.nuget.org/packages/ClosedXML)"
   ],
   "metadata": {}
  },
  {
   "cell_type": "code",
   "execution_count": null,
   "source": [
    "// This is needed that this Notebook works\r\n",
    "#r \"nuget: ClosedXML, 0.95.4\""
   ],
   "outputs": [
    {
     "data": {
      "text/html": [
       "<div><div></div><div></div><div></div></div>"
      ]
     },
     "metadata": {},
     "output_type": "display_data"
    }
   ],
   "metadata": {
    "dotnet_interactive": {
     "language": "csharp"
    }
   }
  },
  {
   "cell_type": "markdown",
   "source": [
    "## Required Namespaces"
   ],
   "metadata": {}
  },
  {
   "cell_type": "code",
   "execution_count": null,
   "source": [
    "using System.IO;\r\n",
    "using System.Globalization;\r\n",
    "using ClosedXML;\r\n",
    "using ClosedXML.Excel;"
   ],
   "outputs": [],
   "metadata": {
    "dotnet_interactive": {
     "language": "csharp"
    }
   }
  },
  {
   "cell_type": "markdown",
   "source": [
    "## Reading by Column Name and Row Number"
   ],
   "metadata": {}
  },
  {
   "cell_type": "code",
   "execution_count": null,
   "source": [
    "public string GetValueByRowAndColumn(string path, int row, int column)\r\n",
    "{\r\n",
    "    using (var workbook = new XLWorkbook(path))\r\n",
    "    {\r\n",
    "        var worksheet = workbook.Worksheet(1);\r\n",
    "        \r\n",
    "        var value = worksheet.Cell(row+1, column).Value;\r\n",
    "\r\n",
    "        return value.ToString();\r\n",
    "    }\r\n",
    "}"
   ],
   "outputs": [],
   "metadata": {
    "dotnet_interactive": {
     "language": "csharp"
    }
   }
  },
  {
   "cell_type": "markdown",
   "source": [
    "## Usage\r\n",
    "\r\n",
    "Used xlsx-File: [email.xlsx](email.xlsx)"
   ],
   "metadata": {}
  },
  {
   "cell_type": "code",
   "execution_count": null,
   "source": [
    "var value = GetValueByRowAndColumn(\"email.xlsx\", 3, 3);"
   ],
   "outputs": [],
   "metadata": {
    "dotnet_interactive": {
     "language": "csharp"
    }
   }
  },
  {
   "cell_type": "markdown",
   "source": [
    "When you execute it, the expected result is `Mary`"
   ],
   "metadata": {}
  },
  {
   "cell_type": "code",
   "execution_count": null,
   "source": [
    "Console.WriteLine($\"Actual result: {value}\");"
   ],
   "outputs": [
    {
     "data": {
      "text/plain": [
       "Actual result: Mary\r\n"
      ]
     },
     "metadata": {},
     "output_type": "display_data"
    }
   ],
   "metadata": {
    "dotnet_interactive": {
     "language": "csharp"
    }
   }
  }
 ],
 "nbformat": 4,
 "nbformat_minor": 2
}