{
 "metadata": {
  "kernelspec": {
   "display_name": ".NET (C#)",
   "language": "C#",
   "name": ".net-csharp"
  },
  "language_info": {
   "name": "C#"
  }
 },
 "cells": [
  {
   "cell_type": "markdown",
   "source": [
    "# Custom Test Output\r\n",
    "\r\n",
    "This code snippets shows you how to bring your custom test output to the unit test runner of your choice. It supports NUnit, MSTest, xUnit and SpecFlow+ Runner."
   ],
   "metadata": {
    "dotnet_interactive": {
     "language": "csharp"
    }
   }
  },
  {
   "cell_type": "markdown",
   "source": [
    "## Required NuGet Packages"
   ],
   "metadata": {}
  },
  {
   "cell_type": "code",
   "execution_count": null,
   "source": [
    "#r \"nuget: Reqnroll, 3.9.22\""
   ],
   "outputs": [
    {
     "data": {
      "text/html": [
       "<div><div></div><div></div><div></div></div>"
      ]
     },
     "metadata": {},
     "output_type": "display_data"
    }
   ],
   "metadata": {
    "dotnet_interactive": {
     "language": "csharp"
    }
   }
  },
  {
   "cell_type": "markdown",
   "source": [
    "## Required Namespaces"
   ],
   "metadata": {}
  },
  {
   "cell_type": "code",
   "execution_count": null,
   "source": [
    "using Reqnroll;\r\n",
    "using Reqnroll.Infrastructure;"
   ],
   "outputs": [],
   "metadata": {
    "dotnet_interactive": {
     "language": "csharp"
    }
   }
  },
  {
   "cell_type": "markdown",
   "source": [
    "## Usage in a Binding"
   ],
   "metadata": {}
  },
  {
   "cell_type": "markdown",
   "source": [
    "### Constructor"
   ],
   "metadata": {}
  },
  {
   "cell_type": "code",
   "execution_count": null,
   "source": [
    "[Binding]\r\n",
    "public class BindingClass\r\n",
    "{\r\n",
    "    private IReqnrollOutputHelper _reqnrollOutputHelper;\r\n",
    "\r\n",
    "    public BindingClass(IReqnrollOutputHelper reqnrollOutputHelper)\r\n",
    "    {\r\n",
    "        _reqnrollOutputHelper = reqnrollOutputHelper;\r\n",
    "    }\r\n",
    "}"
   ],
   "outputs": [],
   "metadata": {
    "dotnet_interactive": {
     "language": "csharp"
    }
   }
  },
  {
   "cell_type": "markdown",
   "source": [
    "### Binding"
   ],
   "metadata": {}
  },
  {
   "cell_type": "code",
   "execution_count": null,
   "source": [
    "[Binding]\r\n",
    "public class BindingClass\r\n",
    "{\r\n",
    "    private IReqnrollOutputHelper _reqnrollOutputHelper;\r\n",
    "\r\n",
    "    [Given(\"your step regex goes here\")]\r\n",
    "    public void AnyStepBinding()\r\n",
    "    {\r\n",
    "        _reqnrollOutputHelper.WriteLine(\"Here goes your custom message\");\r\n",
    "    }\r\n",
    "}"
   ],
   "outputs": [],
   "metadata": {
    "dotnet_interactive": {
     "language": "csharp"
    }
   }
  },
  {
   "cell_type": "markdown",
   "source": [
    "## Can be used in\r\n",
    "\r\n",
    "- [Hooks](https://docs.reqnroll.net/projects/reqnroll/en/latest/Bindings/Hooks.html)\r\n",
    "    - Before/After- Scenario\r\n",
    "    - Before/After- ScenarioBlock\r\n",
    "    - Before/After- Step\r\n",
    "- [Step Bindings](https://docs.reqnroll.net/projects/reqnroll/en/latest/Bindings/Step-Definitions.html)\r\n",
    "- every class you request via [Context- Injection](https://docs.reqnroll.net/projects/reqnroll/en/latest/Bindings/Context-Injection.html)\r\n"
   ],
   "metadata": {}
  }
 ],
 "nbformat": 4,
 "nbformat_minor": 2
}
