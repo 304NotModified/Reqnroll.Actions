{
 "cells": [
  {
   "cell_type": "markdown",
   "metadata": {
    "dotnet_interactive": {
     "language": "csharp"
    }
   },
   "source": [
    "# Custom Test Output\n",
    "\n",
    "This code snippets shows you how to bring your custom test output to the unit test runner of your choice. It supports NUnit, MSTest, xUnit and SpecFlow+ Runner."
   ]
  },
  {
   "cell_type": "markdown",
   "metadata": {},
   "source": [
    "## Required NuGet Packages"
   ]
  },
  {
   "cell_type": "code",
   "execution_count": null,
   "metadata": {
    "dotnet_interactive": {
     "language": "csharp"
    },
    "vscode": {
     "languageId": "csharp"
    }
   },
   "outputs": [
    {
     "data": {
      "text/html": [
       "<div><div></div><div></div><div></div></div>"
      ]
     },
     "metadata": {},
     "output_type": "display_data"
    }
   ],
   "source": [
    "#r \"nuget: Reqnroll, 1.0.0\""
   ]
  },
  {
   "cell_type": "markdown",
   "metadata": {},
   "source": [
    "## Required Namespaces"
   ]
  },
  {
   "cell_type": "code",
   "execution_count": null,
   "metadata": {
    "dotnet_interactive": {
     "language": "csharp"
    },
    "vscode": {
     "languageId": "csharp"
    }
   },
   "outputs": [],
   "source": [
    "using Reqnroll;\n",
    "using Reqnroll.Infrastructure;"
   ]
  },
  {
   "cell_type": "markdown",
   "metadata": {},
   "source": [
    "## Usage in a Binding"
   ]
  },
  {
   "cell_type": "markdown",
   "metadata": {},
   "source": [
    "### Constructor"
   ]
  },
  {
   "cell_type": "code",
   "execution_count": null,
   "metadata": {
    "dotnet_interactive": {
     "language": "csharp"
    },
    "vscode": {
     "languageId": "csharp"
    }
   },
   "outputs": [],
   "source": [
    "[Binding]\n",
    "public class BindingClass\n",
    "{\n",
    "    private IReqnrollOutputHelper _reqnrollOutputHelper;\n",
    "\n",
    "    public BindingClass(IReqnrollOutputHelper reqnrollOutputHelper)\n",
    "    {\n",
    "        _reqnrollOutputHelper = reqnrollOutputHelper;\n",
    "    }\n",
    "}"
   ]
  },
  {
   "cell_type": "markdown",
   "metadata": {},
   "source": [
    "### Binding"
   ]
  },
  {
   "cell_type": "code",
   "execution_count": null,
   "metadata": {
    "dotnet_interactive": {
     "language": "csharp"
    },
    "vscode": {
     "languageId": "csharp"
    }
   },
   "outputs": [],
   "source": [
    "[Binding]\n",
    "public class BindingClass\n",
    "{\n",
    "    private IReqnrollOutputHelper _reqnrollOutputHelper;\n",
    "\n",
    "    [Given(\"your step regex goes here\")]\n",
    "    public void AnyStepBinding()\n",
    "    {\n",
    "        _reqnrollOutputHelper.WriteLine(\"Here goes your custom message\");\n",
    "    }\n",
    "}"
   ]
  },
  {
   "cell_type": "markdown",
   "metadata": {},
   "source": [
    "## Can be used in\n",
    "\n",
    "- [Hooks](https://docs.reqnroll.net/projects/reqnroll/en/latest/Bindings/Hooks.html)\n",
    "    - Before/After- Scenario\n",
    "    - Before/After- ScenarioBlock\n",
    "    - Before/After- Step\n",
    "- [Step Bindings](https://docs.reqnroll.net/projects/reqnroll/en/latest/Bindings/Step-Definitions.html)\n",
    "- every class you request via [Context- Injection](https://docs.reqnroll.net/projects/reqnroll/en/latest/Bindings/Context-Injection.html)\n"
   ]
  }
 ],
 "metadata": {
  "kernelspec": {
   "display_name": ".NET (C#)",
   "language": "C#",
   "name": ".net-csharp"
  },
  "language_info": {
   "name": "C#"
  }
 },
 "nbformat": 4,
 "nbformat_minor": 2
}
